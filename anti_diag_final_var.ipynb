{
  "cells": [
    {
      "cell_type": "markdown",
      "metadata": {
        "id": "view-in-github",
        "colab_type": "text"
      },
      "source": [
        "<a href=\"https://colab.research.google.com/github/zlerdworatawee/iclue-scripts/blob/main/anti_diag_final_var.ipynb\" target=\"_parent\"><img src=\"https://colab.research.google.com/assets/colab-badge.svg\" alt=\"Open In Colab\"/></a>"
      ]
    },
    {
      "cell_type": "code",
      "execution_count": null,
      "metadata": {
        "id": "mui_mFR7GSHz"
      },
      "outputs": [],
      "source": [
        "from IPython.display import display, Math\n",
        "import numpy as np\n",
        "import cupy as cp # only for gpu use\n",
        "import pandas as pd\n",
        "import sympy as sp\n",
        "from sympy import symbols, sympify, Matrix, Eq, solve, expand, Abs, pprint, factor\n",
        "from itertools import permutations\n",
        "import scipy\n",
        "import sys\n",
        "import math"
      ]
    },
    {
      "cell_type": "markdown",
      "metadata": {
        "id": "Wi3QBI-QJ3r_"
      },
      "source": [
        "# Anti-Diagonal Code RSK Variant\n",
        "\n",
        "> Functions below\n"
      ]
    },
    {
      "cell_type": "code",
      "execution_count": null,
      "metadata": {
        "id": "xxodKjUNIcC1"
      },
      "outputs": [],
      "source": [
        "def contingency_tables(row_sums: np.array, col_sums: np.array) -> list:\n",
        "    '''\n",
        "    This function generates the contingency tables\n",
        "    for a given set of row and column sums\n",
        "    using a backtracking/recursive approach.\n",
        "    '''\n",
        "    m, n = len(row_sums), len(col_sums)\n",
        "    result = []\n",
        "\n",
        "    def backtrack(row, table, col_sums_left):\n",
        "        if row == m:\n",
        "            if all(c == 0 for c in col_sums_left):\n",
        "                result.append(np.array(table))\n",
        "            return\n",
        "\n",
        "        def valid_next_rows(rsum, cols_left, partial=[]):\n",
        "            if len(partial) == n:\n",
        "                if sum(partial) == rsum:\n",
        "                    yield list(partial)\n",
        "                return\n",
        "            i = len(partial)\n",
        "            max_entry = min(rsum - sum(partial), cols_left[i])\n",
        "            for x in range(max_entry + 1):\n",
        "                yield from valid_next_rows(rsum, cols_left, partial + [x])\n",
        "\n",
        "        for row_vals in valid_next_rows(row_sums[row], col_sums_left):\n",
        "            new_cols = [c - x for c, x in zip(col_sums_left, row_vals)]\n",
        "            if all(c >= 0 for c in new_cols):\n",
        "                backtrack(row + 1, table + [row_vals], new_cols)\n",
        "\n",
        "    backtrack(0, [], col_sums)\n",
        "    return result"
      ]
    },
    {
      "cell_type": "code",
      "execution_count": null,
      "metadata": {
        "id": "4XVJbkuHOgPB"
      },
      "outputs": [],
      "source": [
        "def rsk_insert(tableau, x):\n",
        "    tableau = tableau.copy()\n",
        "    rows, cols = tableau.shape\n",
        "    bumped = x\n",
        "    for r in range(rows):\n",
        "        row = tableau[r]\n",
        "        mask = (row > 0)\n",
        "        eligible = row[mask]\n",
        "        idx = np.where(eligible > bumped)[0]\n",
        "        if idx.size == 0:\n",
        "            insert_pos = np.sum(mask)\n",
        "            if insert_pos < cols:\n",
        "                tableau[r, insert_pos] = bumped\n",
        "                return tableau, (r, insert_pos)\n",
        "            else:\n",
        "                continue\n",
        "        else:\n",
        "            i = idx[0]\n",
        "            bumped, tableau[r, i] = tableau[r, i], bumped\n",
        "    empty_row = np.zeros(cols, dtype=int)\n",
        "    empty_row[0] = bumped\n",
        "    tableau = np.vstack([tableau, empty_row])\n",
        "    return tableau, (tableau.shape[0] - 1, 0)\n",
        "\n",
        "def viennot_rsk(biword):\n",
        "    n = len(biword)\n",
        "    P = np.zeros((n, n), dtype=int)\n",
        "    Q = np.zeros((n, n), dtype=int)\n",
        "    for a, b in biword:\n",
        "        P, (r, c) = rsk_insert(P, a)\n",
        "        Q[r, c] = b\n",
        "    return P, Q\n",
        "\n",
        "def print_tableau(tableau, name='T'):\n",
        "    '''\n",
        "    for debugging\n",
        "    @params tableau is a numpy array\n",
        "    @params name is a string\n",
        "    '''\n",
        "    print(f\"{name}:\")\n",
        "    for row in tableau:\n",
        "        row_nonzero = row[row > 0]\n",
        "        if row_nonzero.size > 0:\n",
        "            print(row_nonzero)"
      ]
    },
    {
      "cell_type": "code",
      "execution_count": null,
      "metadata": {
        "id": "VjWKO-bDuvQ1"
      },
      "outputs": [],
      "source": [
        "def contingency_vectors(n, d):\n",
        "    '''\n",
        "    This function generates the possible contingency vectors\n",
        "    @params n: len of vector\n",
        "    @params d: degree\n",
        "    '''\n",
        "    vectors = []\n",
        "    def recusion(vector, degrees_left):\n",
        "        if len(vector) == n:\n",
        "            vectors.append(vector)\n",
        "            return\n",
        "        for i in range(degrees_left + 1)[::-1]:\n",
        "            new_vector = vector + [i]\n",
        "\n",
        "            if len(new_vector) == n:  # pruning\n",
        "                vectors.append(new_vector)\n",
        "                return\n",
        "\n",
        "            recusion(new_vector, degrees_left - int(i))\n",
        "\n",
        "    recusion([], d)\n",
        "    return vectors"
      ]
    },
    {
      "cell_type": "markdown",
      "metadata": {
        "id": "j3kRMXzm5E8I"
      },
      "source": [
        "# Anti-Diagonal RSK Check Code\n",
        "\n"
      ]
    },
    {
      "cell_type": "code",
      "execution_count": null,
      "metadata": {
        "id": "l25d6OmZsnZn"
      },
      "outputs": [],
      "source": [
        "def longest_antidiag(M, i):\n",
        "  '''finds the longest anti-diagonal ending in specified row (SW to NE) i given a matrix M using dynamic programming\n",
        "  Args:\n",
        "    - M: generic np.array\n",
        "    - i: given last row of the anti-diagonal\n",
        "  '''\n",
        "  if i < 0 or i >= M.shape[0]:\n",
        "      return 0\n",
        "\n",
        "  col_indexes = np.where(M[i] != 0)[0]  # non-zero cols in row i\n",
        "  if len(col_indexes) == 0:\n",
        "      return longest_antidiag(M, i - 1)\n",
        "\n",
        "  longest = 1\n",
        "  for col_idx in col_indexes:\n",
        "      M_take = M[:i, col_idx + 1:]     # rows above, cols to the right\n",
        "      longest = max(longest, 1 + longest_antidiag(M_take, i - 1))\n",
        "\n",
        "  return longest"
      ]
    },
    {
      "cell_type": "code",
      "execution_count": null,
      "metadata": {
        "id": "Ndcgce1shlwi"
      },
      "outputs": [],
      "source": [
        "def lowest_row_leq_i(P, i) -> int:\n",
        "    '''Finds lowest row in tableau P containing some nonzero j <= i'''\n",
        "    try:\n",
        "        rows, _ = np.where((P <= i) & (P != 0))\n",
        "        if len(rows) == 0:\n",
        "            return math.inf\n",
        "        return np.max(rows) + 1  # +1 if you want 1-based indexing\n",
        "    except:\n",
        "        return math.inf"
      ]
    },
    {
      "cell_type": "code",
      "execution_count": null,
      "metadata": {
        "id": "UCM35Kswkl1a"
      },
      "outputs": [],
      "source": [
        "def lowest_row_with_i(P, i) -> int:\n",
        "  '''finds lowest row in tableau P containing i\n",
        "  Args:\n",
        "    - P: generic 2D np.array\n",
        "    - i: given number\n",
        "  '''\n",
        "  try:\n",
        "      row = np.max(np.where(P == i)[0])\n",
        "      return row + 1\n",
        "  except:\n",
        "      return math.inf"
      ]
    },
    {
      "cell_type": "code",
      "execution_count": null,
      "metadata": {
        "id": "iV6n5_jk53vP"
      },
      "outputs": [],
      "source": [
        "def biword(M: np.array) -> list:\n",
        "  '''given a matrix M return the corresponding biword\n",
        "  Args:\n",
        "    - M: generic np.array\n",
        "  '''\n",
        "  # biword goes from left to right col-wise and top to bottom row-wise\n",
        "  biword_P = []\n",
        "  for j in range(M.shape[1]):\n",
        "    for i in range(M.shape[0]):\n",
        "        if M[i, j] != 0:\n",
        "            biword_P.extend([i + 1] * M[i, j])\n",
        "  biword_Q = np.arange(1, len(biword_P) + 1, 1) # recording tableau Q doesn't matter so this is a dummy value\n",
        "  return list(zip(biword_P, biword_Q))"
      ]
    },
    {
      "cell_type": "markdown",
      "metadata": {
        "id": "CF_mdtXz5V6V"
      },
      "source": [
        "# End of Functions\n",
        "> begining of testbed\n",
        "\n",
        "testing_anti_diag() tests a large amount of matrices\n",
        "\n",
        "testing_singular_matrix() tests just one but you have to manually change test_matrix"
      ]
    },
    {
      "cell_type": "code",
      "execution_count": null,
      "metadata": {
        "id": "lAITgH9-PdtU"
      },
      "outputs": [],
      "source": [
        "def test_singular_matrix(input_matrix: np.array) -> int:\n",
        "  '''Testing a single matrix\n",
        "  filler fxn for testbed'''\n",
        "  test_matrix = input_matrix\n",
        "  n = len(test_matrix[0])\n",
        "  bw = biword(test_matrix)\n",
        "  P = viennot_rsk(bw)[0]\n",
        "  i_vals = np.delete(np.unique(P), np.where(np.unique(P) == 0))\n",
        "  for i in i_vals:\n",
        "    low_row_eq = lowest_row_with_i(P, i)\n",
        "    longest_antidiag_ending_i = longest_antidiag(test_matrix, i - 1)\n",
        "    low_row_leq = lowest_row_leq_i(P, i)\n",
        "    if low_row_eq <= longest_antidiag_ending_i and longest_antidiag_ending_i <= low_row_leq:\n",
        "       print(f\"Checking: {low_row_eq} <= {longest_antidiag_ending_i} <= {low_row_leq} → \"\n",
        "             f\"{low_row_eq <= longest_antidiag_ending_i and longest_antidiag_ending_i <= low_row_leq}\")\n",
        "       continue\n",
        "    else:\n",
        "       print(f\"\"\"SANITY CHECK FAILED:\n",
        "             P: {P}\n",
        "             i: {i}\n",
        "             lowest_row_with_i: {low_row_eq}\n",
        "             longest_antidiag_ending_i: {longest_antidiag_ending_i}\n",
        "             lowest_row_leq_i: {low_row_leq}\n",
        "             \"\"\")\n",
        "       return -1\n",
        "  print(\"SANITY CHECK PASSED\")\n",
        "  return 1"
      ]
    },
    {
      "cell_type": "code",
      "execution_count": null,
      "metadata": {
        "id": "SIjDlQ7S5h5C"
      },
      "outputs": [],
      "source": [
        "def comprehensive_test():\n",
        "    ''' easy testing function for sanity checking the following:\n",
        "    (Lowest row in P containing i)\n",
        "    <= (Longest antidiagonal in M ending in row i)\n",
        "    <= (Lowest row in P containing some j <= i)\n",
        "    for matrices with total sum <= (SOME NUMBER)\n",
        "\n",
        "    !!!caution: this will take a long time to run since it goes through\n",
        "    all possible matrices with given total and size and then tests them\n",
        "    for each distinct value in each matrix!!!\n",
        "    '''\n",
        "    while True:\n",
        "        try:\n",
        "            matrix_total_sum = int(input(\"Enter the total sum of the matrix: \")) # SOME_NUMBER\n",
        "            matrix_size = int(input(\"Enter the size of the (square) matrix: \"))\n",
        "            break\n",
        "        except ValueError:\n",
        "            print(\"Invalid input. Please enter integers.\")\n",
        "    matrices = []\n",
        "    P_tableaus = []\n",
        "\n",
        "    for i in range(matrix_total_sum):\n",
        "      contingency_vecs = contingency_vectors(matrix_size, i + 1)\n",
        "      for pi in contingency_vecs:\n",
        "          for sig in contingency_vecs:\n",
        "              matrices.extend(contingency_tables(pi, sig))\n",
        "\n",
        "    for matrix in matrices:\n",
        "      if test_singular_matrix(np.array(matrix)) == -1:\n",
        "        print(matrix)\n",
        "        break\n",
        "    print(\"TESTING COMPLETE\")"
      ]
    },
    {
      "cell_type": "code",
      "execution_count": null,
      "metadata": {
        "colab": {
          "base_uri": "https://localhost:8080/",
          "height": 287
        },
        "id": "vclJ9HrlQrrp",
        "outputId": "62627315-aa8e-4645-d60b-a1a6ccd3b56f"
      },
      "outputs": [
        {
          "output_type": "error",
          "ename": "KeyboardInterrupt",
          "evalue": "Interrupted by user",
          "traceback": [
            "\u001b[0;31m---------------------------------------------------------------------------\u001b[0m",
            "\u001b[0;31mKeyboardInterrupt\u001b[0m                         Traceback (most recent call last)",
            "\u001b[0;32m<ipython-input-11-791dfd2b581b>\u001b[0m in \u001b[0;36m<cell line: 0>\u001b[0;34m()\u001b[0m\n\u001b[0;32m----> 1\u001b[0;31m \u001b[0mcomprehensive_test\u001b[0m\u001b[0;34m(\u001b[0m\u001b[0;34m)\u001b[0m\u001b[0;34m\u001b[0m\u001b[0;34m\u001b[0m\u001b[0m\n\u001b[0m",
            "\u001b[0;32m<ipython-input-10-1b9f27f9ea81>\u001b[0m in \u001b[0;36mcomprehensive_test\u001b[0;34m()\u001b[0m\n\u001b[1;32m     12\u001b[0m     \u001b[0;32mwhile\u001b[0m \u001b[0;32mTrue\u001b[0m\u001b[0;34m:\u001b[0m\u001b[0;34m\u001b[0m\u001b[0;34m\u001b[0m\u001b[0m\n\u001b[1;32m     13\u001b[0m         \u001b[0;32mtry\u001b[0m\u001b[0;34m:\u001b[0m\u001b[0;34m\u001b[0m\u001b[0;34m\u001b[0m\u001b[0m\n\u001b[0;32m---> 14\u001b[0;31m             \u001b[0mmatrix_total_sum\u001b[0m \u001b[0;34m=\u001b[0m \u001b[0mint\u001b[0m\u001b[0;34m(\u001b[0m\u001b[0minput\u001b[0m\u001b[0;34m(\u001b[0m\u001b[0;34m\"Enter the total sum of the matrix: \"\u001b[0m\u001b[0;34m)\u001b[0m\u001b[0;34m)\u001b[0m \u001b[0;31m# SOME_NUMBER\u001b[0m\u001b[0;34m\u001b[0m\u001b[0;34m\u001b[0m\u001b[0m\n\u001b[0m\u001b[1;32m     15\u001b[0m             \u001b[0mmatrix_size\u001b[0m \u001b[0;34m=\u001b[0m \u001b[0mint\u001b[0m\u001b[0;34m(\u001b[0m\u001b[0minput\u001b[0m\u001b[0;34m(\u001b[0m\u001b[0;34m\"Enter the size of the (square) matrix: \"\u001b[0m\u001b[0;34m)\u001b[0m\u001b[0;34m)\u001b[0m\u001b[0;34m\u001b[0m\u001b[0;34m\u001b[0m\u001b[0m\n\u001b[1;32m     16\u001b[0m             \u001b[0;32mbreak\u001b[0m\u001b[0;34m\u001b[0m\u001b[0;34m\u001b[0m\u001b[0m\n",
            "\u001b[0;32m/usr/local/lib/python3.11/dist-packages/ipykernel/kernelbase.py\u001b[0m in \u001b[0;36mraw_input\u001b[0;34m(self, prompt)\u001b[0m\n\u001b[1;32m   1175\u001b[0m                 \u001b[0;34m\"raw_input was called, but this frontend does not support input requests.\"\u001b[0m\u001b[0;34m\u001b[0m\u001b[0;34m\u001b[0m\u001b[0m\n\u001b[1;32m   1176\u001b[0m             )\n\u001b[0;32m-> 1177\u001b[0;31m         return self._input_request(\n\u001b[0m\u001b[1;32m   1178\u001b[0m             \u001b[0mstr\u001b[0m\u001b[0;34m(\u001b[0m\u001b[0mprompt\u001b[0m\u001b[0;34m)\u001b[0m\u001b[0;34m,\u001b[0m\u001b[0;34m\u001b[0m\u001b[0;34m\u001b[0m\u001b[0m\n\u001b[1;32m   1179\u001b[0m             \u001b[0mself\u001b[0m\u001b[0;34m.\u001b[0m\u001b[0m_parent_ident\u001b[0m\u001b[0;34m[\u001b[0m\u001b[0;34m\"shell\"\u001b[0m\u001b[0;34m]\u001b[0m\u001b[0;34m,\u001b[0m\u001b[0;34m\u001b[0m\u001b[0;34m\u001b[0m\u001b[0m\n",
            "\u001b[0;32m/usr/local/lib/python3.11/dist-packages/ipykernel/kernelbase.py\u001b[0m in \u001b[0;36m_input_request\u001b[0;34m(self, prompt, ident, parent, password)\u001b[0m\n\u001b[1;32m   1217\u001b[0m             \u001b[0;32mexcept\u001b[0m \u001b[0mKeyboardInterrupt\u001b[0m\u001b[0;34m:\u001b[0m\u001b[0;34m\u001b[0m\u001b[0;34m\u001b[0m\u001b[0m\n\u001b[1;32m   1218\u001b[0m                 \u001b[0;31m# re-raise KeyboardInterrupt, to truncate traceback\u001b[0m\u001b[0;34m\u001b[0m\u001b[0;34m\u001b[0m\u001b[0m\n\u001b[0;32m-> 1219\u001b[0;31m                 \u001b[0;32mraise\u001b[0m \u001b[0mKeyboardInterrupt\u001b[0m\u001b[0;34m(\u001b[0m\u001b[0;34m\"Interrupted by user\"\u001b[0m\u001b[0;34m)\u001b[0m \u001b[0;32mfrom\u001b[0m \u001b[0;32mNone\u001b[0m\u001b[0;34m\u001b[0m\u001b[0;34m\u001b[0m\u001b[0m\n\u001b[0m\u001b[1;32m   1220\u001b[0m             \u001b[0;32mexcept\u001b[0m \u001b[0mException\u001b[0m\u001b[0;34m:\u001b[0m\u001b[0;34m\u001b[0m\u001b[0;34m\u001b[0m\u001b[0m\n\u001b[1;32m   1221\u001b[0m                 \u001b[0mself\u001b[0m\u001b[0;34m.\u001b[0m\u001b[0mlog\u001b[0m\u001b[0;34m.\u001b[0m\u001b[0mwarning\u001b[0m\u001b[0;34m(\u001b[0m\u001b[0;34m\"Invalid Message:\"\u001b[0m\u001b[0;34m,\u001b[0m \u001b[0mexc_info\u001b[0m\u001b[0;34m=\u001b[0m\u001b[0;32mTrue\u001b[0m\u001b[0;34m)\u001b[0m\u001b[0;34m\u001b[0m\u001b[0;34m\u001b[0m\u001b[0m\n",
            "\u001b[0;31mKeyboardInterrupt\u001b[0m: Interrupted by user"
          ]
        }
      ],
      "source": [
        "comprehensive_test()"
      ]
    },
    {
      "cell_type": "code",
      "execution_count": null,
      "metadata": {
        "id": "Vqgv16zkFVwi"
      },
      "outputs": [],
      "source": [
        "def test_singular_matrix_manual():\n",
        "  '''Testing a single matrix\n",
        "  there's no good way for me to have you input a matrix so you have to edit the one below'''\n",
        "  test_matrix = np.array([\n",
        "    [0, 1, 1, 0],\n",
        "    [1, 2, 0, 0],\n",
        "    [0, 1, 0, 1],\n",
        "    [1, 0, 2, 0]\n",
        "  ])\n",
        "  n = len(test_matrix[0])\n",
        "  bw = biword(test_matrix)\n",
        "  P = viennot_rsk(bw)[0]\n",
        "  i_vals = np.delete(np.unique(P), np.where(np.unique(P) == 0))\n",
        "  print(i_vals)\n",
        "  for i in i_vals:\n",
        "    low_row_eq = lowest_row_with_i(P, i)\n",
        "    longest_antidiag_ending_i = longest_antidiag(test_matrix, i - 1)    # python zero indexing\n",
        "    low_row_leq = lowest_row_leq_i(P, i)\n",
        "    if low_row_eq <= longest_antidiag_ending_i and longest_antidiag_ending_i <= low_row_leq:\n",
        "      print(f\"Checking: {low_row_eq} <= {longest_antidiag_ending_i} <= {low_row_leq} → \"\n",
        "             f\"{low_row_eq <= longest_antidiag_ending_i and longest_antidiag_ending_i <= low_row_leq}\")\n",
        "      continue\n",
        "    else:\n",
        "       print(f\"\"\"SANITY CHECK FAILED:\n",
        "             M: {test_matrix}\n",
        "             P: {P}\n",
        "             i: {i}\n",
        "             lowest_row_with_i: {low_row_eq}\n",
        "             longest_antidiag_ending_i: {longest_antidiag_ending_i}\n",
        "             lowest_row_leq_i: {low_row_leq}\n",
        "             \"\"\")\n",
        "       return -1\n",
        "  return 1"
      ]
    },
    {
      "cell_type": "code",
      "execution_count": null,
      "metadata": {
        "colab": {
          "base_uri": "https://localhost:8080/"
        },
        "id": "SPGM1NPnumBE",
        "outputId": "e2ad7476-dac6-4888-d1ed-3f2db8d428d6"
      },
      "outputs": [
        {
          "output_type": "stream",
          "name": "stdout",
          "text": [
            "[1 2 3 4]\n",
            "Checking: 1 <= 1 <= 1 → True\n",
            "Checking: 2 <= 2 <= 2 → True\n",
            "Checking: 1 <= 2 <= 2 → True\n",
            "Checking: 3 <= 3 <= 3 → True\n"
          ]
        },
        {
          "output_type": "execute_result",
          "data": {
            "text/plain": [
              "1"
            ]
          },
          "metadata": {},
          "execution_count": 17
        }
      ],
      "source": [
        "test_singular_matrix_manual()"
      ]
    }
  ],
  "metadata": {
    "colab": {
      "gpuType": "T4",
      "provenance": [],
      "include_colab_link": true
    },
    "kernelspec": {
      "display_name": "Python 3",
      "name": "python3"
    },
    "language_info": {
      "name": "python"
    }
  },
  "nbformat": 4,
  "nbformat_minor": 0
}